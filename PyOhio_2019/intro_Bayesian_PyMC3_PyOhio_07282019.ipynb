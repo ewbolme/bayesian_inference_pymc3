{
 "cells": [
  {
   "cell_type": "markdown",
   "metadata": {},
   "source": [
    "matplotlib inline\n",
    "import numpy as np\n",
    "import pandas as pd\n",
    "import matplotlib.pyplot as plt\n",
    "import pymc3 as pm\n",
    "from theano import shared"
   ]
  },
  {
   "cell_type": "markdown",
   "metadata": {},
   "source": [
    "## Stochastic / deterministic variables and model objects in PyMC3"
   ]
  },
  {
   "cell_type": "markdown",
   "metadata": {},
   "source": [
    "### Model objects"
   ]
  },
  {
   "cell_type": "code",
   "execution_count": null,
   "metadata": {},
   "outputs": [],
   "source": [
    "# We create all of our variables within model objects\n",
    "\n",
    "with pm.Model() as model: # everything created within context of model object belongs to model now\n",
    "    lambda_param = pm.Exponential(\"poisson_param\", 1.0) \n",
    "    DGP = pm.Poisson(\"DGP\", lambda_param)"
   ]
  },
  {
   "cell_type": "code",
   "execution_count": null,
   "metadata": {},
   "outputs": [],
   "source": [
    "# We can look at our variables outside the model context, but they can be defined only inside it \n",
    "\n",
    "lambda_param"
   ]
  },
  {
   "cell_type": "markdown",
   "metadata": {},
   "source": [
    "### Stochastic variables"
   ]
  },
  {
   "cell_type": "markdown",
   "metadata": {},
   "source": [
    "How to define a stochastic variable: \n",
    "``python_var_name = pm.DiscreteUniform(\"pymc_var_name\", 0, 10)``\n",
    "\n",
    "Make the pymc_var_name descriptive because that's where the posterior distro will be later on!"
   ]
  },
  {
   "cell_type": "code",
   "execution_count": null,
   "metadata": {},
   "outputs": [],
   "source": [
    "with pm.Model() as another_model:\n",
    "    lambda_param = pm.Exponential(\"poisson_param\", 1.0)"
   ]
  },
  {
   "cell_type": "code",
   "execution_count": null,
   "metadata": {},
   "outputs": [],
   "source": [
    "# Each variable already has a test value\n",
    "lambda_param.tag.test_value\n",
    "\n",
    "# test_value is the starting point for sampling in the model if no other initial value is set. \n",
    "# It doesn't change the sampling. "
   ]
  },
  {
   "cell_type": "markdown",
   "metadata": {},
   "source": [
    "### Deterministic variables"
   ]
  },
  {
   "cell_type": "code",
   "execution_count": null,
   "metadata": {},
   "outputs": [],
   "source": [
    "with pm.Model() as model:\n",
    "    lambda_1 = pm.Exponential(\"lambda_1\", 1.0)\n",
    "    lambda_2 = pm.Exponential(\"lambda_2\", 1.0)\n",
    "    tau = pm.DiscreteUniform(\"tau\", lower=0, upper=10)\n",
    "\n",
    "new_deterministic_variable = lambda_1 + lambda_2"
   ]
  },
  {
   "cell_type": "code",
   "execution_count": null,
   "metadata": {},
   "outputs": [],
   "source": [
    "def subtract(x, y):\n",
    "    return x - y\n",
    "\n",
    "with pm.Model() as model: \n",
    "    stochastic_1 = pm.Uniform(\"U_1\", 0, 1)\n",
    "    stochastic_2 = pm.Uniform(\"U_2\", 0, 1)\n",
    "\n",
    "    det_1 = pm.Deterministic(\"Delta\", subtract(stochastic_1, stochastic_2))"
   ]
  },
  {
   "cell_type": "markdown",
   "metadata": {},
   "source": [
    "### Putting it all together and looking at our distribution"
   ]
  },
  {
   "cell_type": "code",
   "execution_count": null,
   "metadata": {},
   "outputs": [],
   "source": [
    "with pm.Model() as model: \n",
    "    lambda_param = pm.Exponential(\"poisson_param\", 1.0) \n",
    "    DGP = pm.Poisson(\"DGP\", lambda_param)"
   ]
  },
  {
   "cell_type": "code",
   "execution_count": null,
   "metadata": {},
   "outputs": [],
   "source": [
    "samples = lambda_param.random(size=20000) # this is the stochastic variable we just defined above \n",
    "\n",
    "# plot the samples from the exponential distribution\n",
    "plt.hist(samples, bins=60, normed=True, histtype=\"stepfilled\")\n",
    "plt.title(\"Prior distribution for $\\lambda$\")\n",
    "plt.xlim(0, 10);"
   ]
  },
  {
   "cell_type": "markdown",
   "metadata": {},
   "source": [
    "## Fitting a distribution to data"
   ]
  },
  {
   "cell_type": "markdown",
   "metadata": {},
   "source": [
    "### Telling PyMC3 about our observed data"
   ]
  },
  {
   "cell_type": "code",
   "execution_count": null,
   "metadata": {},
   "outputs": [],
   "source": [
    "my_fake_data = np.array([34, 54, 81, 23, 94]) # e.g. number of visitors to our website per day \n",
    "\n",
    "with pm.Model() as model:\n",
    "    fixed_variable = pm.Poisson(\"fixed_var\", 1, observed=my_fake_data)\n",
    "    \n",
    "print(\"Value of fixed variable: \", fixed_variable.tag.test_value)"
   ]
  },
  {
   "cell_type": "markdown",
   "metadata": {},
   "source": [
    "### Priors far from true data, expansive priors\n",
    "\n",
    "Let's sample some random data from a Normal distribution N(mu=0,sd=.5) and try to fit a distro to it using PyMC3. We're trying to see if PyMC3 can use the samples to guess the parameters of our distribution. "
   ]
  },
  {
   "cell_type": "code",
   "execution_count": null,
   "metadata": {},
   "outputs": [],
   "source": [
    "normal_sample = np.random.normal(0, 1.0, 1000) # mu = 0, sd = 1.0, num. samples = 1000"
   ]
  },
  {
   "cell_type": "code",
   "execution_count": null,
   "metadata": {},
   "outputs": [],
   "source": [
    "# Fit a Normal distro to our data and see if we can recover our parameters \n",
    "\n",
    "with pm.Model() as random_normal:\n",
    "\n",
    "    # set our priors for the parameters (stochastic nodes)\n",
    "    sd = pm.HalfNormal('sd', sd=.5) # SD won't be zero so use half Normal\n",
    "    mu = pm.Normal('mu', mu=2.0, sd=1.0)\n",
    "\n",
    "    pred = pm.Normal('pred', mu=mu, sd=sd, observed=normal_sample)"
   ]
  },
  {
   "cell_type": "code",
   "execution_count": null,
   "metadata": {},
   "outputs": [],
   "source": [
    "print(\"Type of mu:\" , type(mu))\n",
    "print(\"\\nMean: \", mu.distribution.mean.eval())\n",
    "print(\"\\nLogp at .5: \" , mu.distribution.logp(.5).eval()) # log means we can add probabilities instead of multiplying"
   ]
  },
  {
   "cell_type": "code",
   "execution_count": null,
   "metadata": {},
   "outputs": [],
   "source": [
    "with random_normal:\n",
    "    trace_normal = pm.sample(500) # MCMC, can use other algos ; sample = # of draws "
   ]
  },
  {
   "cell_type": "code",
   "execution_count": null,
   "metadata": {},
   "outputs": [],
   "source": [
    "pm.traceplot(trace_normal, ['mu', 'sd']);"
   ]
  },
  {
   "cell_type": "markdown",
   "metadata": {},
   "source": [
    "### Priors far from true data, restrictive priors "
   ]
  },
  {
   "cell_type": "code",
   "execution_count": null,
   "metadata": {},
   "outputs": [],
   "source": [
    "normal_sample = np.random.normal(0, 1.0, 1000) # mu = 0, sd = 1.0, num. samples = 1000"
   ]
  },
  {
   "cell_type": "code",
   "execution_count": null,
   "metadata": {},
   "outputs": [],
   "source": [
    "# Fit a Normal distro to our data and see if we can recover our parameters \n",
    "# This time with restrictive priors far away from the true values\n",
    "\n",
    "with pm.Model() as random_normal:\n",
    "\n",
    "    sd = pm.HalfNormal('sd', sd=.1) \n",
    "    mu = pm.Normal('mu', mu=2.0, sd=.1)\n",
    "\n",
    "    pred = pm.Normal('pred', mu=mu, sd=sd, observed=normal_sample)"
   ]
  },
  {
   "cell_type": "code",
   "execution_count": null,
   "metadata": {},
   "outputs": [],
   "source": [
    "with random_normal:\n",
    "    trace_normal = pm.sample(500) # MCMC, can use other algos ; sample = # of draws \n",
    "                                   # Will use NUTS (no u-turn sampler), which says we don't have to set # steps "
   ]
  },
  {
   "cell_type": "code",
   "execution_count": null,
   "metadata": {},
   "outputs": [],
   "source": [
    "pm.traceplot(trace_normal, ['mu', 'sd']);"
   ]
  },
  {
   "cell_type": "markdown",
   "metadata": {},
   "source": [
    "## Linear Regression "
   ]
  },
  {
   "cell_type": "code",
   "execution_count": null,
   "metadata": {},
   "outputs": [],
   "source": [
    "# Let's generate some fake (X,Y) data to fit a linear model\n",
    "\n",
    "def make_random_OLS_data(num_obs, intercept, beta): \n",
    "    X = np.random.normal(1.0, 0.1, num_obs)\n",
    "    epsilon = np.random.normal(0.0, 0.1, num_obs) # random noise \n",
    "    \n",
    "    # Define our DGP\n",
    "    y = intercept + (beta*X) + epsilon\n",
    "    return X, y"
   ]
  },
  {
   "cell_type": "code",
   "execution_count": null,
   "metadata": {},
   "outputs": [],
   "source": [
    "X_train, y_train = make_random_OLS_data(num_obs=1000,intercept=1.5,beta=.25)"
   ]
  },
  {
   "cell_type": "code",
   "execution_count": null,
   "metadata": {},
   "outputs": [],
   "source": [
    "plt.scatter(X_train, y_train, alpha=.1)"
   ]
  },
  {
   "cell_type": "code",
   "execution_count": null,
   "metadata": {},
   "outputs": [],
   "source": [
    "with pm.Model() as OLS:\n",
    "\n",
    "    # Set the priors on the parameters of OLS \n",
    "    intercept = pm.Normal('intercept', mu=0.75, sd=1.) # actual = 1.5\n",
    "    beta = pm.Normal('beta', mu=0.0, sd=1.) # actual = .25\n",
    "    mu = (beta*X_train) + intercept\n",
    "    sd = pm.HalfNormal('sd', sd=.1)\n",
    "    \n",
    "    y = pm.Normal('y_est', mu=mu, sd=sd, observed=y_train)"
   ]
  },
  {
   "cell_type": "code",
   "execution_count": null,
   "metadata": {},
   "outputs": [],
   "source": [
    "with OLS:\n",
    "    trace = pm.sample(2500)"
   ]
  },
  {
   "cell_type": "code",
   "execution_count": null,
   "metadata": {},
   "outputs": [],
   "source": [
    "pm.traceplot(trace, ['intercept', 'beta', 'sd']); \n",
    "# intercept: true = 1.5 | prior = .75\n",
    "# beta: true = .25 | prior = 0.\n",
    "# true sd = .1"
   ]
  },
  {
   "cell_type": "markdown",
   "metadata": {},
   "source": [
    "**ppc = posterior predictive check**"
   ]
  },
  {
   "cell_type": "code",
   "execution_count": null,
   "metadata": {},
   "outputs": [],
   "source": [
    "# ppc = posterior predictive check \n",
    "# Gelman: \"simulating replicated data under the fitted model and then comparing these to the observed data\"\n",
    "# Use posterior predictive checks to \"look for systematic discrepancies between real and simulated data\"\n",
    "\n",
    "with OLS:\n",
    "    \n",
    "    # sample the posterior to fit\n",
    "    ppc = pm.sample_ppc(trace, samples=2000) \n",
    "\n",
    "print(\"\\nCreate 2000 samples per each of our 1000 observation:\", ppc['y_est'].shape)"
   ]
  },
  {
   "cell_type": "code",
   "execution_count": null,
   "metadata": {},
   "outputs": [],
   "source": [
    "# Use the mean of the 2000 samples per observation to fit our OLS  \n",
    "y_hat = ppc['y_est']\n",
    "y_hat_mean = np.reshape(np.mean(y_hat, axis=0), [-1])\n",
    "\n",
    "plt.scatter(X_train, y_train)\n",
    "plt.scatter(X_train, y_hat_mean)\n",
    "plt.title(\"Fitting an OLS via Bayesian Inference\");"
   ]
  },
  {
   "cell_type": "markdown",
   "metadata": {},
   "source": [
    "## Hierarchical Linear Model"
   ]
  },
  {
   "cell_type": "code",
   "execution_count": null,
   "metadata": {},
   "outputs": [],
   "source": [
    "# generate random data \n",
    "\n",
    "NUM_GROUPS = 10; \n",
    "\n",
    "def generate_hierarchical_data(num_obs_per_group, num_groups, pop_intercept, pop_beta, pop_sd):\n",
    "    \n",
    "    group_lvl_params = []\n",
    "    # numpy arrays most efficient when you create empty ones of the size you'll need at the start\n",
    "    # since they're assigned contiguous memory \n",
    "    Y = np.zeros(shape=(num_groups*num_obs_per_group,1))\n",
    "    X = np.zeros(shape=(num_groups*num_obs_per_group,1))\n",
    "    group_id = np.zeros(shape=(num_groups*num_obs_per_group,1))\n",
    "\n",
    "    for _ in range(num_groups):\n",
    "        intercept_grp = np.random.normal(pop_intercept, pop_sd)\n",
    "        beta_grp = np.random.normal(pop_beta, pop_sd)\n",
    "        group_lvl_params.append([intercept_grp, beta_grp])\n",
    "        \n",
    "    print(\"Group level parameters: \\n\" , group_lvl_params)\n",
    "        \n",
    "    for i, group in enumerate(group_lvl_params):\n",
    "        indiv_epsilon = np.reshape(np.random.normal(0.0, 0.01, num_obs_per_group), [-1, 1])\n",
    "        y = group[1]*indiv_epsilon + group[0] # use group parameters and noise (epsilon) to create individual obs\n",
    "\n",
    "        X[i*num_obs_per_group:i*num_obs_per_group+num_obs_per_group,0] = indiv_epsilon.ravel()\n",
    "        group_id[i*num_obs_per_group:i*num_obs_per_group+num_obs_per_group,0] = np.ones_like(indiv_epsilon).ravel() * i\n",
    "        Y[i*num_obs_per_group:i*num_obs_per_group+num_obs_per_group,0] = y.ravel()\n",
    "    \n",
    "    return X, Y, group_id\n",
    "\n",
    "def RMSE(Y,y_hat): \n",
    "    return np.sqrt(np.mean((y_hat - Y) ** 2.0))\n",
    "\n",
    "X, Y, group_id = generate_hierarchical_data(num_obs_per_group=50,num_groups=NUM_GROUPS,pop_intercept=2.3,\n",
    "                                  pop_beta=4.5,pop_sd=.1)"
   ]
  },
  {
   "cell_type": "code",
   "execution_count": null,
   "metadata": {},
   "outputs": [],
   "source": [
    "X_shared = shared(X) # from Theano, keeps data in memory \n",
    "Y_shared = shared(Y)"
   ]
  },
  {
   "cell_type": "markdown",
   "metadata": {},
   "source": [
    "### Unpooled"
   ]
  },
  {
   "cell_type": "code",
   "execution_count": null,
   "metadata": {},
   "outputs": [],
   "source": [
    "with pm.Model() as FE_unpooled:\n",
    "\n",
    "    intercept = pm.Normal('intercept', mu=1, sd=.5, shape=NUM_GROUPS)\n",
    "    beta = pm.Normal('beta', mu=2, sd=.5, shape=NUM_GROUPS)\n",
    "    mu = (beta[group_id.astype(int)] * X_shared) + intercept[group_id.astype(int)]\n",
    "    \n",
    "    y = pm.Normal('y', mu, observed=Y)"
   ]
  },
  {
   "cell_type": "code",
   "execution_count": null,
   "metadata": {},
   "outputs": [],
   "source": [
    "with FE_unpooled:\n",
    "    unpooled_trace = pm.sample(2000, tune=500) # tune will use steps but discrad them "
   ]
  },
  {
   "cell_type": "code",
   "execution_count": null,
   "metadata": {},
   "outputs": [],
   "source": [
    "pm.traceplot(unpooled_trace, ['intercept', 'beta']);"
   ]
  },
  {
   "cell_type": "code",
   "execution_count": null,
   "metadata": {},
   "outputs": [],
   "source": [
    "#### RMSE of unpooled \n",
    "unpooled_sample = pm.sample_ppc(unpooled_trace, model=FE_unpooled, size=1000)\n",
    "y_hat_unpooled = np.mean(unpooled_sample['y'], axis=1)"
   ]
  },
  {
   "cell_type": "code",
   "execution_count": null,
   "metadata": {},
   "outputs": [],
   "source": [
    "unpooled_RMSE = RMSE(Y,y_hat_unpooled)\n",
    "\n",
    "print(\"RMSE of unpooled: \", unpooled_RMSE)"
   ]
  },
  {
   "cell_type": "markdown",
   "metadata": {},
   "source": [
    "### Pooled"
   ]
  },
  {
   "cell_type": "code",
   "execution_count": null,
   "metadata": {},
   "outputs": [],
   "source": [
    "with pm.Model() as RE_pooled:\n",
    "\n",
    "    pop_intercept = pm.Normal('group_intercept', 1, sd=5., shape=1)\n",
    "    pop_intercept_sigma = pm.HalfNormal('group_intercept_sigma', sd=.5)\n",
    "    pop_beta = pm.Normal('group_beta', 4, sd=5., shape=1)\n",
    "    pop_beta_sigma = pm.HalfNormal('group_beta_sigma', sd=.5)\n",
    "    \n",
    "    intercept = pm.Normal('intercept', mu=pop_intercept, sd=pop_intercept_sigma, shape=NUM_GROUPS)\n",
    "    beta = pm.Normal('beta', mu=pop_beta, sd=pop_beta_sigma, shape=NUM_GROUPS)\n",
    "    mu = (beta[group_id.astype(int)] * X_shared) + intercept[group_id.astype(int)]\n",
    "    \n",
    "    y = pm.Normal('y', mu, observed=Y_shared)"
   ]
  },
  {
   "cell_type": "code",
   "execution_count": null,
   "metadata": {},
   "outputs": [],
   "source": [
    "with RE_pooled:\n",
    "    pooled_trace = pm.sample(2000, tune=2000)"
   ]
  },
  {
   "cell_type": "code",
   "execution_count": null,
   "metadata": {},
   "outputs": [],
   "source": [
    "pm.traceplot(pooled_trace, ['group_intercept', 'group_intercept_sigma',\n",
    "                     'group_beta', 'group_beta_sigma', 'intercept', 'beta']);"
   ]
  },
  {
   "cell_type": "code",
   "execution_count": null,
   "metadata": {},
   "outputs": [],
   "source": [
    "#### RMSE of pooled \n",
    "pooled_sample = pm.sample_ppc(pooled_trace, model=RE_pooled, size=1000)\n",
    "y_hat_pooled = np.mean(pooled_sample['y'], axis=1)\n",
    "\n",
    "pooled_RMSE = RMSE(Y,y_hat_pooled)\n",
    "\n",
    "print(\"RMSE of unpooled: \", unpooled_RMSE)\n",
    "print(\"RMSE of pooled: \", pooled_RMSE)"
   ]
  },
  {
   "cell_type": "code",
   "execution_count": null,
   "metadata": {},
   "outputs": [],
   "source": []
  }
 ],
 "metadata": {
  "kernelspec": {
   "display_name": "Python [conda env:pymc3]",
   "language": "python",
   "name": "conda-env-pymc3-py"
  },
  "language_info": {
   "codemirror_mode": {
    "name": "ipython",
    "version": 3
   },
   "file_extension": ".py",
   "mimetype": "text/x-python",
   "name": "python",
   "nbconvert_exporter": "python",
   "pygments_lexer": "ipython3",
   "version": "3.6.5"
  },
  "toc": {
   "base_numbering": 1,
   "nav_menu": {},
   "number_sections": true,
   "sideBar": true,
   "skip_h1_title": true,
   "title_cell": "Table of Contents",
   "title_sidebar": "Contents",
   "toc_cell": false,
   "toc_position": {
    "height": "calc(100% - 180px)",
    "left": "10px",
    "top": "150px",
    "width": "165px"
   },
   "toc_section_display": true,
   "toc_window_display": true
  }
 },
 "nbformat": 4,
 "nbformat_minor": 2
}
